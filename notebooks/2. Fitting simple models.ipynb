{
 "cells": [
  {
   "cell_type": "markdown",
   "id": "c2d11410",
   "metadata": {},
   "source": [
    "# HiHi"
   ]
  },
  {
   "cell_type": "markdown",
   "id": "8f1d5441",
   "metadata": {},
   "source": [
    "## Decision Tree\n",
    "\n",
    "cateogical variables:\n",
    "- Pclass\n",
    "- Sex\n",
    "- Sibsp 0,1,>=2\n",
    "- Parch 0,1,2,>=3\n",
    "- Embarked\n",
    "\n",
    "quantitative variables:\n",
    "- Age\n",
    "- Fare (log transformation)"
   ]
  },
  {
   "cell_type": "code",
   "execution_count": null,
   "id": "81977905",
   "metadata": {},
   "outputs": [],
   "source": [
    "#decision tree"
   ]
  }
 ],
 "metadata": {
  "language_info": {
   "name": "python"
  }
 },
 "nbformat": 4,
 "nbformat_minor": 5
}
