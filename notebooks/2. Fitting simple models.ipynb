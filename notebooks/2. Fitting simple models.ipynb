{
 "cells": [
  {
   "cell_type": "markdown",
   "id": "c2d11410",
   "metadata": {},
   "source": [
    "# HiHi"
   ]
  },
  {
   "cell_type": "markdown",
   "id": "8f1d5441",
   "metadata": {},
   "source": [
    "## Trees\n",
    "\n",
    "cateogical variables:\n",
    "- Pclass\n",
    "- Sex\n",
    "- Sibsp 0,1,>=2\n",
    "- Parch 0,1,2,>=3\n",
    "- Embarked\n",
    "\n",
    "quantitative variables:\n",
    "- Age\n",
    "- Fare (log transformation)"
   ]
  },
  {
   "cell_type": "code",
   "execution_count": 10,
   "id": "d019c4ce",
   "metadata": {},
   "outputs": [],
   "source": [
    "# load dataset\n",
    "\n",
    "import pandas as pd\n",
    "import numpy as np\n",
    "from sklearn.model_selection import train_test_split\n",
    "from sklearn.preprocessing import LabelEncoder\n",
    "from sklearn.metrics import accuracy_score, classification_report\n",
    "\n",
    "df = pd.read_csv('../data/processed/train_processed.csv')\n",
    "\n",
    "# for var in df.columns:\n",
    "#     print(df[var].describe())\n",
    "    \n",
    "categorical_features = ['Pclass', 'Sex', 'SibSp', 'Parch', 'Embarked']\n",
    "quantitative_features = ['Age', 'Log_Fare']\n",
    "features = categorical_features + quantitative_features\n",
    "target = 'Survived'"
   ]
  },
  {
   "cell_type": "code",
   "execution_count": 11,
   "id": "f07c3564",
   "metadata": {},
   "outputs": [
    {
     "name": "stdout",
     "output_type": "stream",
     "text": [
      "   PassengerId  Survived  Pclass     Sex   Age SibSp Parch     Fare Embarked  \\\n",
      "0            1         0       3    male  22.0     1     0   7.2500        S   \n",
      "1            2         1       1  female  38.0     1     0  71.2833        C   \n",
      "2            3         1       3  female  26.0     0     0   7.9250        S   \n",
      "3            4         1       1  female  35.0     1     0  53.1000        S   \n",
      "4            5         0       3    male  35.0     0     0   8.0500        S   \n",
      "\n",
      "   Log_Fare  \n",
      "0  1.982380  \n",
      "1  4.266802  \n",
      "2  2.071283  \n",
      "3  3.972365  \n",
      "4  2.086914  \n",
      "<class 'pandas.core.frame.DataFrame'>\n",
      "RangeIndex: 714 entries, 0 to 713\n",
      "Data columns (total 10 columns):\n",
      " #   Column       Non-Null Count  Dtype  \n",
      "---  ------       --------------  -----  \n",
      " 0   PassengerId  714 non-null    int64  \n",
      " 1   Survived     714 non-null    int64  \n",
      " 2   Pclass       714 non-null    int64  \n",
      " 3   Sex          714 non-null    object \n",
      " 4   Age          714 non-null    float64\n",
      " 5   SibSp        714 non-null    object \n",
      " 6   Parch        714 non-null    object \n",
      " 7   Fare         714 non-null    float64\n",
      " 8   Embarked     714 non-null    object \n",
      " 9   Log_Fare     714 non-null    float64\n",
      "dtypes: float64(3), int64(3), object(4)\n",
      "memory usage: 55.9+ KB\n",
      "None\n"
     ]
    }
   ],
   "source": [
    "# preprocess data\n",
    "\n",
    "def preprocess_data(df):\n",
    "    df = df.copy()\n",
    "    df['SibSp'] = df['SibSp'].apply(lambda x: '0' if x == 0 else ('1' if x == 1 else '>=2'))\n",
    "    df['Parch'] = df['Parch'].apply(lambda x: '0' if x == 0 else ('1' if x == 1 else ('2' if x==2 else '>=3')))\n",
    "    drop_col = ['Name', 'Ticket']\n",
    "    df = df.drop(columns=drop_col)\n",
    "    return df\n",
    "\n",
    "df = preprocess_data(df)\n",
    "print(df.head())\n",
    "print(df.info())"
   ]
  },
  {
   "cell_type": "code",
   "execution_count": 12,
   "id": "00a45fa3",
   "metadata": {},
   "outputs": [
    {
     "name": "stdout",
     "output_type": "stream",
     "text": [
      "[2 0 1]\n",
      "[1 0]\n",
      "[1 0 2]\n",
      "[0 1 2 3]\n",
      "[2 0 1]\n"
     ]
    }
   ],
   "source": [
    "# Encode categorical variables (turn into numerical)\n",
    "label_encoders = {}\n",
    "for feature in categorical_features:\n",
    "    le = LabelEncoder()\n",
    "    df[feature] = le.fit_transform(df[feature].astype(str))\n",
    "    label_encoders[feature] = le\n",
    "    \n",
    "for var in categorical_features:\n",
    "    print(df[var].unique())"
   ]
  },
  {
   "cell_type": "code",
   "execution_count": 4,
   "id": "aabc144a",
   "metadata": {},
   "outputs": [],
   "source": [
    "# train test split\n",
    "X = df[categorical_features + quantitative_features]\n",
    "y = df[target]\n",
    "\n",
    "# Split data into training and validation sets\n",
    "X_train, X_val, y_train, y_val = train_test_split(X, y, test_size=0.2, random_state=42)"
   ]
  },
  {
   "cell_type": "code",
   "execution_count": null,
   "id": "81977905",
   "metadata": {},
   "outputs": [],
   "source": [
    "# decision tree\n",
    "\n"
   ]
  },
  {
   "cell_type": "code",
   "execution_count": null,
   "id": "426f8d24",
   "metadata": {},
   "outputs": [],
   "source": [
    "# random forest"
   ]
  },
  {
   "cell_type": "code",
   "execution_count": null,
   "id": "7f3afa10",
   "metadata": {},
   "outputs": [],
   "source": [
    "# gbdt"
   ]
  },
  {
   "cell_type": "code",
   "execution_count": 16,
   "id": "dabba70f",
   "metadata": {},
   "outputs": [
    {
     "name": "stdout",
     "output_type": "stream",
     "text": [
      "Validation Accuracy: 0.8041958041958042\n",
      "\n",
      "Classification Report:\n",
      "               precision    recall  f1-score   support\n",
      "\n",
      "           0       0.82      0.87      0.84        87\n",
      "           1       0.78      0.70      0.74        56\n",
      "\n",
      "    accuracy                           0.80       143\n",
      "   macro avg       0.80      0.78      0.79       143\n",
      "weighted avg       0.80      0.80      0.80       143\n",
      "\n",
      "\n",
      "Cross-Validation Accuracy: Mean = 0.8025903673790997 Std = 0.039889318122347125\n",
      "\n",
      "Feature Importance:\n",
      "     Feature  Importance\n",
      "1       Sex    0.613274\n",
      "0    Pclass    0.164484\n",
      "2     SibSp    0.070213\n",
      "5       Age    0.048775\n",
      "4  Embarked    0.039331\n",
      "6  Log_Fare    0.032966\n",
      "3     Parch    0.030956\n"
     ]
    },
    {
     "data": {
      "image/png": "[encoded data removed]",
      "text/plain": [
       "<Figure size 1000x600 with 1 Axes>"
      ]
     },
     "metadata": {},
     "output_type": "display_data"
    }
   ],
   "source": [
    "# xgboost dt\n",
    "\n",
    "import xgboost as xgb\n",
    "from sklearn.model_selection import train_test_split, cross_val_score\n",
    "from sklearn.preprocessing import LabelEncoder\n",
    "from sklearn.metrics import accuracy_score, classification_report\n",
    "import matplotlib.pyplot as plt\n",
    "\n",
    "xgb_model = xgb.XGBClassifier(\n",
    "    objective='binary:logistic',\n",
    "    eval_metric='logloss',\n",
    "    random_state=42,\n",
    "    max_depth=4,          # Limit tree depth to prevent overfitting\n",
    "    learning_rate=0.1,    # Conservative learning rate\n",
    "    n_estimators=100      # Number of trees\n",
    ")\n",
    "xgb_model.fit(X_train, y_train)\n",
    "y_pred = xgb_model.predict(X_val)\n",
    "\n",
    "print(\"Validation Accuracy:\", accuracy_score(y_val, y_pred))\n",
    "print(\"\\nClassification Report:\\n\", classification_report(y_val, y_pred))\n",
    "\n",
    "# Cross-validation\n",
    "cv_scores = cross_val_score(xgb_model, X, y, cv=5, scoring='accuracy')\n",
    "print(\"\\nCross-Validation Accuracy: Mean =\", cv_scores.mean(), \"Std =\", cv_scores.std())\n",
    "\n",
    "# Feature importance\n",
    "feature_importance = xgb_model.feature_importances_\n",
    "importance_df = pd.DataFrame({'Feature': features, 'Importance': feature_importance})\n",
    "importance_df = importance_df.sort_values(by='Importance', ascending=False)\n",
    "print(\"\\nFeature Importance:\\n\", importance_df)\n",
    "\n",
    "# Plot feature importance\n",
    "plt.figure(figsize=(10, 6))\n",
    "plt.barh(importance_df['Feature'], importance_df['Importance'])\n",
    "plt.xlabel('Importance')\n",
    "plt.title('Feature Importance')\n",
    "plt.gca().invert_yaxis()\n",
    "plt.show()"
   ]
  }
 ],
 "metadata": {
  "kernelspec": {
   "display_name": ".venv",
   "language": "python",
   "name": "python3"
  },
  "language_info": {
   "codemirror_mode": {
    "name": "ipython",
    "version": 3
   },
   "file_extension": ".py",
   "mimetype": "text/x-python",
   "name": "python",
   "nbconvert_exporter": "python",
   "pygments_lexer": "ipython3",
   "version": "3.11.9"
  }
 },
 "nbformat": 4,
 "nbformat_minor": 5
}
