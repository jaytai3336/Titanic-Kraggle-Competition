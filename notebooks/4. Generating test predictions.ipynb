{
 "cells": [
  {
   "cell_type": "code",
   "execution_count": 10,
   "id": "2f2bada9",
   "metadata": {},
   "outputs": [],
   "source": [
    "# testing nn\n",
    "\n",
    "import keras\n",
    "from keras.models import load_model\n",
    "\n",
    "model = load_model(r'C:\\Users\\Jay Tai\\Documents\\Titanic-Kraggle-Competition\\lstm\\saved_models\\acc_0.8873.keras')"
   ]
  },
  {
   "cell_type": "code",
   "execution_count": null,
   "id": "b1a98a81",
   "metadata": {},
   "outputs": [],
   "source": [
    "import pandas as pd\n",
    "\n",
    "\n",
    "\n",
    "\n",
    "def load_data():\n",
    "    df = \n",
    "\n",
    "    categorical_features = ['Pclass', 'Sex', 'SibSp', 'Parch', 'Embarked']\n",
    "    quantitative_features = ['Age', 'Log_Fare']\n",
    "    features = categorical_features + quantitative_features\n",
    "    target = 'Survived'\n",
    "\n",
    "    def preprocess_data(df):\n",
    "        df = df.copy()\n",
    "        df['SibSp'] = df['SibSp'].apply(lambda x: '0' if x == 0 else ('1' if x == 1 else '>=2'))\n",
    "        df['Parch'] = df['Parch'].apply(lambda x: '0' if x == 0 else ('1' if x == 1 else ('2' if x==2 else '>=3')))\n",
    "        drop_col = ['Name', 'Ticket']\n",
    "        df = df.drop(columns=drop_col)\n",
    "        return df\n",
    "\n",
    "    df = preprocess_data(df)\n",
    "\n",
    "    # Encode categorical features\n",
    "    for col in categorical_features:\n",
    "        le = LabelEncoder()\n",
    "        df[col] = le.fit_transform(df[col].astype(str))\n",
    "\n",
    "    X = df[features].values\n",
    "    y = df[target].values\n",
    "\n",
    "    scaler = StandardScaler()\n",
    "    X = scaler.fit_transform(X)\n",
    "\n",
    "    return X, y"
   ]
  },
  {
   "cell_type": "code",
   "execution_count": null,
   "id": "2fc1a33a",
   "metadata": {},
   "outputs": [],
   "source": [
    "predictions = model.predict(test_images)\n",
    "\n",
    "# For classification (probabilities → class indices):\n",
    "predicted_classes = np.argmax(predictions, axis=1)\n",
    "\n",
    "# For regression, predictions are direct outputs"
   ]
  }
 ],
 "metadata": {
  "kernelspec": {
   "display_name": ".venv",
   "language": "python",
   "name": "python3"
  },
  "language_info": {
   "codemirror_mode": {
    "name": "ipython",
    "version": 3
   },
   "file_extension": ".py",
   "mimetype": "text/x-python",
   "name": "python",
   "nbconvert_exporter": "python",
   "pygments_lexer": "ipython3",
   "version": "3.11.9"
  }
 },
 "nbformat": 4,
 "nbformat_minor": 5
}
