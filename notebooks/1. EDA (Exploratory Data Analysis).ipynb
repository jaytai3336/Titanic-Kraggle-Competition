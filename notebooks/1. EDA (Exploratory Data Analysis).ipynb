{
 "cells": [
  {
   "cell_type": "markdown",
   "id": "7eac46a9",
   "metadata": {},
   "source": [
    "# Titanic Survival Prediction: Exploratory Data Analysis\n",
    "~ \"Extracting Signals from Chaos\"\n",
    "\n",
    "## Objective\n",
    "While this is a classic ML competition, I approach it with a trader's mindset:\n",
    "- Treat survival probability as a binary classification problem (like trade success/failure).\n",
    "- Identify high-impact features (e.g., socioeconomic status ≈ market participant tiers).\n",
    "- Uncover non-linear relationships (e.g., age vs. survival resembling option payoff curves).\n",
    "\n",
    "## Key Questions\n",
    "1. Feature Engineering:\n",
    "    - Does Fare behave like a \"price\" with survival probability as its delta?\n",
    "    - Can Name titles (Mr./Mrs.) proxy for behavioral biases in crisis?\n",
    "2. Risk Factors:\n",
    "    - How does Pclass interact with Age like a portfolio’s risk layers?\n",
    "    - Are missing values in Cabin analogous to incomplete market data?\n",
    "3. Modeling Implications:\n",
    "    - Should we treat SibSp/Parch as correlated assets?\n",
    "    - Does Embarked show geographic clusters like regional liquidity?\n",
    "\n",
    "## Methodology\n",
    "1. Survival Rates by Group: Calculated like a trading strategy’s win rate.\n",
    "2. Visualizations:\n",
    "    - Heatmaps for feature correlations (≈ cross-asset dependencies).\n",
    "    - Kernel density plots for Age/Fare (≈ fat-tailed distributions).\n",
    "3. Statistical Tests:\n",
    "    - Chi-square for categorical independence (e.g., Sex vs. survival).\n",
    "    - Kolmogorov-Smirnov to compare distributions (e.g., Fare by class).\n",
    "\n",
    "## Tools\n",
    "```\n",
    "import pandas as pd  # Data as a \"price series\"\n",
    "import seaborn as sns  # Visualizing \"market structure\"\n",
    "from scipy import stats  # Quantifying feature significance\n",
    "```"
   ]
  },
  {
   "cell_type": "code",
   "execution_count": 1,
   "id": "8c2ccf78",
   "metadata": {},
   "outputs": [],
   "source": [
    "import pandas as pd\n",
    "import matplotlib.pyplot as plt\n",
    "import seaborn as sns\n",
    "from scipy import stats"
   ]
  },
  {
   "cell_type": "code",
   "execution_count": 2,
   "id": "1beb21f6",
   "metadata": {},
   "outputs": [],
   "source": [
    "# Load the raw Titanic datasets\n",
    "train_data = pd.read_csv('../data/raw/train.csv')\n",
    "test_data = pd.read_csv('../data/raw/test.csv')"
   ]
  },
  {
   "cell_type": "code",
   "execution_count": 7,
   "id": "19c2e95e",
   "metadata": {},
   "outputs": [
    {
     "name": "stdout",
     "output_type": "stream",
     "text": [
      "Train Data:\n",
      "   PassengerId  Survived  Pclass  \\\n",
      "0            1         0       3   \n",
      "1            2         1       1   \n",
      "2            3         1       3   \n",
      "3            4         1       1   \n",
      "4            5         0       3   \n",
      "\n",
      "                                                Name     Sex   Age  SibSp  \\\n",
      "0                            Braund, Mr. Owen Harris    male  22.0      1   \n",
      "1  Cumings, Mrs. John Bradley (Florence Briggs Th...  female  38.0      1   \n",
      "2                             Heikkinen, Miss. Laina  female  26.0      0   \n",
      "3       Futrelle, Mrs. Jacques Heath (Lily May Peel)  female  35.0      1   \n",
      "4                           Allen, Mr. William Henry    male  35.0      0   \n",
      "\n",
      "   Parch            Ticket     Fare Cabin Embarked  \n",
      "0      0         A/5 21171   7.2500   NaN        S  \n",
      "1      0          PC 17599  71.2833   C85        C  \n",
      "2      0  STON/O2. 3101282   7.9250   NaN        S  \n",
      "3      0            113803  53.1000  C123        S  \n",
      "4      0            373450   8.0500   NaN        S  \n",
      "     PassengerId  Survived  Pclass                                      Name  \\\n",
      "886          887         0       2                     Montvila, Rev. Juozas   \n",
      "887          888         1       1              Graham, Miss. Margaret Edith   \n",
      "888          889         0       3  Johnston, Miss. Catherine Helen \"Carrie\"   \n",
      "889          890         1       1                     Behr, Mr. Karl Howell   \n",
      "890          891         0       3                       Dooley, Mr. Patrick   \n",
      "\n",
      "        Sex   Age  SibSp  Parch      Ticket   Fare Cabin Embarked  \n",
      "886    male  27.0      0      0      211536  13.00   NaN        S  \n",
      "887  female  19.0      0      0      112053  30.00   B42        S  \n",
      "888  female   NaN      1      2  W./C. 6607  23.45   NaN        S  \n",
      "889    male  26.0      0      0      111369  30.00  C148        C  \n",
      "890    male  32.0      0      0      370376   7.75   NaN        Q  \n"
     ]
    }
   ],
   "source": [
    "print(\"Train Data:\")\n",
    "print(train_data.head())\n",
    "print(train_data.tail())"
   ]
  },
  {
   "cell_type": "code",
   "execution_count": 4,
   "id": "b32c37fe",
   "metadata": {},
   "outputs": [
    {
     "name": "stdout",
     "output_type": "stream",
     "text": [
      "Train Data Info:\n",
      "<class 'pandas.core.frame.DataFrame'>\n",
      "RangeIndex: 891 entries, 0 to 890\n",
      "Data columns (total 12 columns):\n",
      " #   Column       Non-Null Count  Dtype  \n",
      "---  ------       --------------  -----  \n",
      " 0   PassengerId  891 non-null    int64  \n",
      " 1   Survived     891 non-null    int64  \n",
      " 2   Pclass       891 non-null    int64  \n",
      " 3   Name         891 non-null    object \n",
      " 4   Sex          891 non-null    object \n",
      " 5   Age          714 non-null    float64\n",
      " 6   SibSp        891 non-null    int64  \n",
      " 7   Parch        891 non-null    int64  \n",
      " 8   Ticket       891 non-null    object \n",
      " 9   Fare         891 non-null    float64\n",
      " 10  Cabin        204 non-null    object \n",
      " 11  Embarked     889 non-null    object \n",
      "dtypes: float64(2), int64(5), object(5)\n",
      "memory usage: 83.7+ KB\n",
      "None\n"
     ]
    }
   ],
   "source": [
    "print(\"Train Data Info:\")\n",
    "print(train_data.info())"
   ]
  },
  {
   "cell_type": "code",
   "execution_count": 3,
   "id": "9974117e",
   "metadata": {},
   "outputs": [
    {
     "name": "stdout",
     "output_type": "stream",
     "text": [
      "Train Data Described:\n",
      "       PassengerId    Survived      Pclass         Age       SibSp  \\\n",
      "count   891.000000  891.000000  891.000000  714.000000  891.000000   \n",
      "mean    446.000000    0.383838    2.308642   29.699118    0.523008   \n",
      "std     257.353842    0.486592    0.836071   14.526497    1.102743   \n",
      "min       1.000000    0.000000    1.000000    0.420000    0.000000   \n",
      "25%     223.500000    0.000000    2.000000   20.125000    0.000000   \n",
      "50%     446.000000    0.000000    3.000000   28.000000    0.000000   \n",
      "75%     668.500000    1.000000    3.000000   38.000000    1.000000   \n",
      "max     891.000000    1.000000    3.000000   80.000000    8.000000   \n",
      "\n",
      "            Parch        Fare  \n",
      "count  891.000000  891.000000  \n",
      "mean     0.381594   32.204208  \n",
      "std      0.806057   49.693429  \n",
      "min      0.000000    0.000000  \n",
      "25%      0.000000    7.910400  \n",
      "50%      0.000000   14.454200  \n",
      "75%      0.000000   31.000000  \n",
      "max      6.000000  512.329200  \n"
     ]
    }
   ],
   "source": [
    "print(\"Train Data Described:\")\n",
    "print(train_data.describe())"
   ]
  },
  {
   "cell_type": "markdown",
   "id": "4607ecc3",
   "metadata": {},
   "source": [
    "It seems the training data is missing data from Age, Cabin and Embarked that we have to deal with later. Of all the columns, PassengerId and Name is not really important factors to the prediction, while Survived is the response variable and {pclass, age, sex, sibsp, parch, ticket number, fare, cabin, embarked} are all input variables, with ticket number, fare and cabin being factors seemingly more disconnected to the survival rate."
   ]
  },
  {
   "cell_type": "code",
   "execution_count": 8,
   "id": "d7cab8fa",
   "metadata": {},
   "outputs": [
    {
     "data": {
      "text/plain": [
       "PassengerId                      1\n",
       "Survived                       0.0\n",
       "Pclass                         3.0\n",
       "Name           Abbing, Mr. Anthony\n",
       "Sex                           male\n",
       "Age                           24.0\n",
       "SibSp                          0.0\n",
       "Parch                          0.0\n",
       "Ticket                        1601\n",
       "Fare                          8.05\n",
       "Cabin                      B96 B98\n",
       "Embarked                         S\n",
       "Name: 0, dtype: object"
      ]
     },
     "execution_count": 8,
     "metadata": {},
     "output_type": "execute_result"
    }
   ],
   "source": [
    "#checking mode \n",
    "train_data.mode().iloc[0]"
   ]
  },
  {
   "cell_type": "markdown",
   "id": "24e5b1fb",
   "metadata": {},
   "source": [
    "From the training data, the mode for categories Age, Cabin, and Embarked are 24.0, B96 B98, and S respectively. #bro the cabin got too much missing values idt the mode is accurate for cabin, the rest looks okay so far..."
   ]
  },
  {
   "cell_type": "code",
   "execution_count": 9,
   "id": "3235b5f7",
   "metadata": {},
   "outputs": [
    {
     "name": "stdout",
     "output_type": "stream",
     "text": [
      "Filled Train Data:\n",
      "   PassengerId  Survived  Pclass  \\\n",
      "0            1         0       3   \n",
      "1            2         1       1   \n",
      "2            3         1       3   \n",
      "3            4         1       1   \n",
      "4            5         0       3   \n",
      "\n",
      "                                                Name     Sex   Age  SibSp  \\\n",
      "0                            Braund, Mr. Owen Harris    male  22.0      1   \n",
      "1  Cumings, Mrs. John Bradley (Florence Briggs Th...  female  38.0      1   \n",
      "2                             Heikkinen, Miss. Laina  female  26.0      0   \n",
      "3       Futrelle, Mrs. Jacques Heath (Lily May Peel)  female  35.0      1   \n",
      "4                           Allen, Mr. William Henry    male  35.0      0   \n",
      "\n",
      "   Parch            Ticket     Fare    Cabin Embarked  \n",
      "0      0         A/5 21171   7.2500  B96 B98        S  \n",
      "1      0          PC 17599  71.2833      C85        C  \n",
      "2      0  STON/O2. 3101282   7.9250  B96 B98        S  \n",
      "3      0            113803  53.1000     C123        S  \n",
      "4      0            373450   8.0500  B96 B98        S  \n",
      "     PassengerId  Survived  Pclass                                      Name  \\\n",
      "886          887         0       2                     Montvila, Rev. Juozas   \n",
      "887          888         1       1              Graham, Miss. Margaret Edith   \n",
      "888          889         0       3  Johnston, Miss. Catherine Helen \"Carrie\"   \n",
      "889          890         1       1                     Behr, Mr. Karl Howell   \n",
      "890          891         0       3                       Dooley, Mr. Patrick   \n",
      "\n",
      "        Sex   Age  SibSp  Parch      Ticket   Fare    Cabin Embarked  \n",
      "886    male  27.0      0      0      211536  13.00  B96 B98        S  \n",
      "887  female  19.0      0      0      112053  30.00      B42        S  \n",
      "888  female  24.0      1      2  W./C. 6607  23.45  B96 B98        S  \n",
      "889    male  26.0      0      0      111369  30.00     C148        C  \n",
      "890    male  32.0      0      0      370376   7.75  B96 B98        Q  \n",
      "Filled Train Data Info:\n",
      "<class 'pandas.core.frame.DataFrame'>\n",
      "RangeIndex: 891 entries, 0 to 890\n",
      "Data columns (total 12 columns):\n",
      " #   Column       Non-Null Count  Dtype  \n",
      "---  ------       --------------  -----  \n",
      " 0   PassengerId  891 non-null    int64  \n",
      " 1   Survived     891 non-null    int64  \n",
      " 2   Pclass       891 non-null    int64  \n",
      " 3   Name         891 non-null    object \n",
      " 4   Sex          891 non-null    object \n",
      " 5   Age          891 non-null    float64\n",
      " 6   SibSp        891 non-null    int64  \n",
      " 7   Parch        891 non-null    int64  \n",
      " 8   Ticket       891 non-null    object \n",
      " 9   Fare         891 non-null    float64\n",
      " 10  Cabin        891 non-null    object \n",
      " 11  Embarked     891 non-null    object \n",
      "dtypes: float64(2), int64(5), object(5)\n",
      "memory usage: 83.7+ KB\n",
      "None\n"
     ]
    }
   ],
   "source": [
    "# Make new dataset with filled data\n",
    "train_data_filled = train_data.fillna(train_data.mode().iloc[0])\n",
    "\n",
    "# View filled train data\n",
    "print(\"Filled Train Data:\")\n",
    "print(train_data_filled.head())\n",
    "print(train_data_filled.tail())\n",
    "\n",
    "print(\"Filled Train Data Info:\")\n",
    "print(train_data_filled.info())"
   ]
  },
  {
   "cell_type": "code",
   "execution_count": 17,
   "id": "0993ef41",
   "metadata": {},
   "outputs": [
    {
     "name": "stdout",
     "output_type": "stream",
     "text": [
      "postitive cases:342\n",
      "Survived: 342 / 891 (38.38%)\n"
     ]
    }
   ],
   "source": [
    "# postive cases\n",
    "num_survived = train_data_filled[\"Survived\"].sum()\n",
    "print(\"postitive cases:\" + str(num_survived))\n",
    "\n",
    "# total cases\n",
    "total = train_data_filled[\"Survived\"].count()\n",
    "\n",
    "# survival rate\n",
    "percentage = (num_survived / total) * 100\n",
    "print(f\"Survived: {num_survived} / {total} ({percentage:.2f}%)\")"
   ]
  },
  {
   "cell_type": "markdown",
   "id": "d5b623e6",
   "metadata": {},
   "source": [
    "We see that there are 342 positive survival cases, meaning that out of 891 passengers, 342 of them survived, aka there is a 38.38% survival rate. This is a slight imbalance in the dataset. (we may need to see if the model is biased towards the majority class, which is survive == 0)"
   ]
  },
  {
   "cell_type": "markdown",
   "id": "f81e89fc",
   "metadata": {},
   "source": [
    "We separate the train set into categorical and quantitative variables. PassengerId was dropped as it was treated as the index and Ticket and Name and cabin was also dropped as from first glance the data was quite messy and hard to decipher (left to be analysed later Race????). Survived was the categorical (binary: 0,1) dependent variable, with the rest being independent variables. The categorical independent variables are {Pclass, Sex, SibSp, Parch, Embarked}, while the quantitative independent variables are {Age, Fare}."
   ]
  },
  {
   "cell_type": "code",
   "execution_count": 19,
   "id": "92502691",
   "metadata": {},
   "outputs": [],
   "source": [
    "categorical_variables = ['Pclass','Sex','SibSp','Parch','Embarked']\n",
    "quantitative_variables = ['Age','Fare']\n",
    "dependent_variable = ['Survived']"
   ]
  },
  {
   "cell_type": "code",
   "execution_count": 21,
   "id": "7cd42e8d",
   "metadata": {},
   "outputs": [
    {
     "name": "stdout",
     "output_type": "stream",
     "text": [
      "\n",
      "=== Pclass vs Survived ===\n",
      "Survived    0    1  All\n",
      "Pclass                 \n",
      "1          80  136  216\n",
      "2          97   87  184\n",
      "3         372  119  491\n",
      "All       549  342  891\n",
      "\n",
      "Chi-square test:\n",
      "χ²=102.89, p=0.0000, df=2\n",
      "\n",
      "Conditional Probabilities (P(Survived | Category)):\n",
      "       Category  P(Survived=1)\n",
      "Pclass                        \n",
      "1             1           0.63\n",
      "2             2           0.47\n",
      "3             3           0.24\n",
      "\n",
      "--------------------------------------------------\n",
      "\n",
      "=== Sex vs Survived ===\n",
      "Survived    0    1  All\n",
      "Sex                    \n",
      "female     81  233  314\n",
      "male      468  109  577\n",
      "All       549  342  891\n",
      "\n",
      "Chi-square test:\n",
      "χ²=260.72, p=0.0000, df=1\n",
      "\n",
      "Odds Ratio: 0.08\n",
      "\n",
      "--------------------------------------------------\n",
      "\n",
      "=== SibSp vs Survived ===\n",
      "Survived    0    1  All\n",
      "SibSp                  \n",
      "0         398  210  608\n",
      "1          97  112  209\n",
      "2          15   13   28\n",
      "3          12    4   16\n",
      "4          15    3   18\n",
      "5           5    0    5\n",
      "8           7    0    7\n",
      "All       549  342  891\n",
      "\n",
      "Chi-square test:\n",
      "χ²=37.27, p=0.0000, df=6\n",
      "\n",
      "Conditional Probabilities (P(Survived | Category)):\n",
      "      Category  P(Survived=1)\n",
      "SibSp                        \n",
      "0            0           0.35\n",
      "1            1           0.54\n",
      "2            2           0.46\n",
      "3            3           0.25\n",
      "4            4           0.17\n",
      "5            5           0.00\n",
      "8            8           0.00\n",
      "\n",
      "--------------------------------------------------\n",
      "\n",
      "=== Parch vs Survived ===\n",
      "Survived    0    1  All\n",
      "Parch                  \n",
      "0         445  233  678\n",
      "1          53   65  118\n",
      "2          40   40   80\n",
      "3           2    3    5\n",
      "4           4    0    4\n",
      "5           4    1    5\n",
      "6           1    0    1\n",
      "All       549  342  891\n",
      "\n",
      "Chi-square test:\n",
      "χ²=27.93, p=0.0001, df=6\n",
      "\n",
      "Conditional Probabilities (P(Survived | Category)):\n",
      "      Category  P(Survived=1)\n",
      "Parch                        \n",
      "0            0           0.34\n",
      "1            1           0.55\n",
      "2            2           0.50\n",
      "3            3           0.60\n",
      "4            4           0.00\n",
      "5            5           0.20\n",
      "6            6           0.00\n",
      "\n",
      "--------------------------------------------------\n",
      "\n",
      "=== Embarked vs Survived ===\n",
      "Survived    0    1  All\n",
      "Embarked               \n",
      "C          75   93  168\n",
      "Q          47   30   77\n",
      "S         427  217  644\n",
      "All       549  340  889\n",
      "\n",
      "Chi-square test:\n",
      "χ²=26.49, p=0.0000, df=2\n",
      "\n",
      "Conditional Probabilities (P(Survived | Category)):\n",
      "         Category  P(Survived=1)\n",
      "Embarked                        \n",
      "C               C           0.55\n",
      "Q               Q           0.39\n",
      "S               S           0.34\n",
      "\n",
      "--------------------------------------------------\n"
     ]
    }
   ],
   "source": [
    "from scipy.stats import chi2_contingency\n",
    "import pandas as pd\n",
    "\n",
    "for cat_var in categorical_variables:\n",
    "    # Create contingency table\n",
    "    ct = pd.crosstab(train_data[cat_var], train_data['Survived'], margins=True)\n",
    "    print(f\"\\n=== {cat_var} vs Survived ===\")\n",
    "    print(ct)\n",
    "    \n",
    "    # Chi-square test\n",
    "    chi2, p, dof, expected = chi2_contingency(ct.iloc[:-1, :-1])  # Exclude margins\n",
    "    print(f\"\\nChi-square test:\\nχ²={chi2:.2f}, p={p:.4f}, df={dof}\")\n",
    "    \n",
    "    # Calculate metrics based on table size\n",
    "    if ct.shape == (3, 3):  # 2x2 table (excluding margins)\n",
    "        # Odds Ratio\n",
    "        oddsratio = (ct.iloc[0,0] * ct.iloc[1,1]) / (ct.iloc[0,1] * ct.iloc[1,0])\n",
    "        print(f\"\\nOdds Ratio: {oddsratio:.2f}\")\n",
    "    else:\n",
    "        # Conditional Probability (P(Survived=1 | Category))\n",
    "        print(\"\\nConditional Probabilities (P(Survived | Category)):\")\n",
    "        prob_df = pd.DataFrame({\n",
    "            'Category': ct.index[:-1],\n",
    "            'P(Survived=1)': ct.iloc[:-1, 1] / ct.iloc[:-1, 2]  # Survived / Total\n",
    "        })\n",
    "        print(prob_df.round(2))\n",
    "    \n",
    "    print(\"\\n\" + \"-\"*50)"
   ]
  },
  {
   "cell_type": "code",
   "execution_count": null,
   "id": "ed518d56",
   "metadata": {},
   "outputs": [],
   "source": [
    "# Plot distributions of quantitative variables by survival\n",
    "for var in quantitative_variables:\n",
    "    plt.figure(figsize=(8, 4))\n",
    "    sns.kdeplot(data=train_data, x=var, hue='Survived', common_norm=False, fill=True, alpha=0.5)\n",
    "    plt.title(f'Distribution of {var} by Survival')\n",
    "    plt.xlabel(var)\n",
    "    plt.ylabel('Density')\n",
    "    plt.legend(title='Survived', labels=['No', 'Yes'])\n",
    "    plt.show()\n",
    "\n",
    "# Boxplots for quantitative variables by survival\n",
    "for var in quantitative_variables:\n",
    "    plt.figure(figsize=(6, 4))\n",
    "    sns.boxplot(data=train_data, x='Survived', y=var)\n",
    "    plt.title(f'{var} by Survival')\n",
    "    plt.xlabel('Survived')\n",
    "    plt.ylabel(var)\n",
    "    plt.xticks([0, 1], ['No', 'Yes'])\n",
    "    plt.show()\n",
    "\n",
    "# Statistical test: Compare distributions (Mann-Whitney U test)\n",
    "for var in quantitative_variables:\n",
    "    survived = train_data[train_data['Survived'] == 1][var].dropna()\n",
    "    not_survived = train_data[train_data['Survived'] == 0][var].dropna()\n",
    "    stat, pval = stats.mannwhitneyu(survived, not_survived, alternative='two-sided')\n",
    "    print(f\"{var}: Mann-Whitney U test p-value = {pval:.4f}\")"
   ]
  },
  {
   "cell_type": "markdown",
   "id": "a0c1f894",
   "metadata": {},
   "source": []
  },
  {
   "cell_type": "code",
   "execution_count": null,
   "id": "3eb5db3f",
   "metadata": {},
   "outputs": [],
   "source": []
  }
 ],
 "metadata": {
  "kernelspec": {
   "display_name": ".venv",
   "language": "python",
   "name": "python3"
  },
  "language_info": {
   "codemirror_mode": {
    "name": "ipython",
    "version": 3
   },
   "file_extension": ".py",
   "mimetype": "text/x-python",
   "name": "python",
   "nbconvert_exporter": "python",
   "pygments_lexer": "ipython3",
   "version": "3.11.9"
  }
 },
 "nbformat": 4,
 "nbformat_minor": 5
}
